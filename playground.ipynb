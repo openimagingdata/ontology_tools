{
 "cells": [
  {
   "cell_type": "code",
   "execution_count": 2,
   "metadata": {},
   "outputs": [],
   "source": [
    "import json\n",
    "from motor.motor_asyncio import AsyncIOMotorClient\n",
    "from dotenv import dotenv_values\n",
    "from ontology_tools.ontologies_repo import OntologiesRepo"
   ]
  },
  {
   "cell_type": "code",
   "execution_count": 4,
   "metadata": {},
   "outputs": [],
   "source": [
    "config = dotenv_values()\n",
    "client = AsyncIOMotorClient(config[\"MONGO_DSN\"])\n",
    "db = client.get_database(\"ontologies\")"
   ]
  },
  {
   "cell_type": "code",
   "execution_count": 5,
   "metadata": {},
   "outputs": [],
   "source": [
    "repo = OntologiesRepo(db)"
   ]
  },
  {
   "cell_type": "code",
   "execution_count": 6,
   "metadata": {},
   "outputs": [
    {
     "data": {
      "text/plain": [
       "46761"
      ]
     },
     "execution_count": 6,
     "metadata": {},
     "output_type": "execute_result"
    }
   ],
   "source": [
    "await repo.get_count(\"radlex\")"
   ]
  },
  {
   "cell_type": "code",
   "execution_count": 7,
   "metadata": {},
   "outputs": [
    {
     "name": "stdout",
     "output_type": "stream",
     "text": [
      "{'_id': 'RID480', 'preferredLabel': 'aorta', 'parent': 'RID35840', 'definition': 'The main trunk of the systemic arteries. [MeSH]', 'radlexProperties': {'hasPart': ['RID905', 'RID482'], 'partOf': 'RID13183', 'preferredNameGerman': 'Aorta', 'source': 'Playbook', 'umlsId': 'C0003483'}}\n"
     ]
    }
   ],
   "source": [
    "rid295 = await repo.get_by_id(\"radlex\", \"RID480\")\n",
    "print(rid295)"
   ]
  },
  {
   "cell_type": "code",
   "execution_count": 9,
   "metadata": {},
   "outputs": [],
   "source": [
    "from ontology_tools.radlex_concept import RadLexConcept"
   ]
  },
  {
   "cell_type": "code",
   "execution_count": 10,
   "metadata": {},
   "outputs": [
    {
     "name": "stdout",
     "output_type": "stream",
     "text": [
      "id='RID480' preferred_label='aorta' synonyms=None parent='RID35840' definition='The main trunk of the systemic arteries. [MeSH]' radlex_properties={'has_part': ['RID905', 'RID482'], 'part_of': 'RID13183', 'preferred_name_german': 'Aorta', 'source': 'Playbook', 'umls_id': 'C0003483'}\n"
     ]
    }
   ],
   "source": [
    "concept = RadLexConcept.model_validate(rid295)\n",
    "print(concept)"
   ]
  },
  {
   "cell_type": "code",
   "execution_count": 11,
   "metadata": {},
   "outputs": [
    {
     "data": {
      "text/plain": [
       "'RID480'"
      ]
     },
     "execution_count": 11,
     "metadata": {},
     "output_type": "execute_result"
    }
   ],
   "source": [
    "concept.id"
   ]
  },
  {
   "cell_type": "code",
   "execution_count": 12,
   "metadata": {},
   "outputs": [
    {
     "data": {
      "text/plain": [
       "'aorta'"
      ]
     },
     "execution_count": 12,
     "metadata": {},
     "output_type": "execute_result"
    }
   ],
   "source": [
    "concept.preferred_label"
   ]
  },
  {
   "cell_type": "code",
   "execution_count": 13,
   "metadata": {},
   "outputs": [
    {
     "data": {
      "text/plain": [
       "Code(system='RADLEX', code='RID480', display='aorta')"
      ]
     },
     "execution_count": 13,
     "metadata": {},
     "output_type": "execute_result"
    }
   ],
   "source": [
    "concept.to_system_code_display()"
   ]
  },
  {
   "cell_type": "code",
   "execution_count": 16,
   "metadata": {},
   "outputs": [
    {
     "name": "stdout",
     "output_type": "stream",
     "text": [
      "{\n",
      "  \"_id\": \"RID480\",\n",
      "  \"preferredLabel\": \"aorta\",\n",
      "  \"synonyms\": null,\n",
      "  \"parent\": \"RID35840\",\n",
      "  \"definition\": \"The main trunk of the systemic arteries. [MeSH]\",\n",
      "  \"radlexProperties\": {\n",
      "    \"hasPart\": [\n",
      "      \"RID905\",\n",
      "      \"RID482\"\n",
      "    ],\n",
      "    \"partOf\": \"RID13183\",\n",
      "    \"preferredNameGerman\": \"Aorta\",\n",
      "    \"source\": \"Playbook\",\n",
      "    \"umlsId\": \"C0003483\"\n",
      "  }\n",
      "}\n"
     ]
    }
   ],
   "source": [
    "print(concept.model_dump_json(indent=2, by_alias=True))"
   ]
  },
  {
   "cell_type": "code",
   "execution_count": null,
   "metadata": {},
   "outputs": [],
   "source": []
  }
 ],
 "metadata": {
  "kernelspec": {
   "display_name": ".venv",
   "language": "python",
   "name": "python3"
  },
  "language_info": {
   "codemirror_mode": {
    "name": "ipython",
    "version": 3
   },
   "file_extension": ".py",
   "mimetype": "text/x-python",
   "name": "python",
   "nbconvert_exporter": "python",
   "pygments_lexer": "ipython3",
   "version": "3.12.9"
  }
 },
 "nbformat": 4,
 "nbformat_minor": 2
}
