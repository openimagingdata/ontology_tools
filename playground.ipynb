{
 "cells": [
  {
   "cell_type": "code",
   "execution_count": 7,
   "metadata": {},
   "outputs": [],
   "source": [
    "import json\n",
    "from motor.motor_asyncio import AsyncIOMotorClient\n",
    "from dotenv import dotenv_values\n",
    "from ontology_tools.ontologies_repo import OntologiesRepo"
   ]
  },
  {
   "cell_type": "code",
   "execution_count": 3,
   "metadata": {},
   "outputs": [],
   "source": [
    "config = dotenv_values()\n",
    "client = AsyncIOMotorClient(config[\"MONGO_DSN\"])\n",
    "db = client.get_database(\"ontologies\")"
   ]
  },
  {
   "cell_type": "code",
   "execution_count": 4,
   "metadata": {},
   "outputs": [],
   "source": [
    "repo = OntologiesRepo(db)"
   ]
  },
  {
   "cell_type": "code",
   "execution_count": 5,
   "metadata": {},
   "outputs": [
    {
     "data": {
      "text/plain": [
       "46761"
      ]
     },
     "execution_count": 5,
     "metadata": {},
     "output_type": "execute_result"
    }
   ],
   "source": [
    "await repo.get_count(\"radlex\")"
   ]
  },
  {
   "cell_type": "code",
   "execution_count": 6,
   "metadata": {},
   "outputs": [
    {
     "name": "stdout",
     "output_type": "stream",
     "text": [
      "{'_id': 'RID480', 'preferredLabel': 'aorta', 'parent': 'RID35840', 'definition': 'The main trunk of the systemic arteries. [MeSH]', 'radlexProperties': {'hasPart': ['RID905', 'RID482'], 'partOf': 'RID13183', 'preferredNameGerman': 'Aorta', 'source': 'Playbook', 'umlsId': 'C0003483'}}\n"
     ]
    }
   ],
   "source": [
    "rid295 = await repo.get_by_id(\"radlex\", \"RID480\")\n",
    "print(rid295)"
   ]
  },
  {
   "cell_type": "code",
   "execution_count": null,
   "metadata": {},
   "outputs": [],
   "source": []
  }
 ],
 "metadata": {
  "kernelspec": {
   "display_name": ".venv",
   "language": "python",
   "name": "python3"
  },
  "language_info": {
   "codemirror_mode": {
    "name": "ipython",
    "version": 3
   },
   "file_extension": ".py",
   "mimetype": "text/x-python",
   "name": "python",
   "nbconvert_exporter": "python",
   "pygments_lexer": "ipython3",
   "version": "3.12.9"
  }
 },
 "nbformat": 4,
 "nbformat_minor": 2
}
